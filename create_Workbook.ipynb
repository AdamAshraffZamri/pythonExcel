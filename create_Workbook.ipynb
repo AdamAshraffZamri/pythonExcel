{
  "nbformat": 4,
  "nbformat_minor": 0,
  "metadata": {
    "colab": {
      "provenance": [],
      "authorship_tag": "ABX9TyNcyauGE1wDa3noBJ3h07Xm",
      "include_colab_link": true
    },
    "kernelspec": {
      "name": "python3",
      "display_name": "Python 3"
    },
    "language_info": {
      "name": "python"
    }
  },
  "cells": [
    {
      "cell_type": "markdown",
      "metadata": {
        "id": "view-in-github",
        "colab_type": "text"
      },
      "source": [
        "<a href=\"https://colab.research.google.com/github/AdamAshraffZamri/pythonExcel/blob/main/create_Workbook.ipynb\" target=\"_parent\"><img src=\"https://colab.research.google.com/assets/colab-badge.svg\" alt=\"Open In Colab\"/></a>"
      ]
    },
    {
      "cell_type": "code",
      "execution_count": null,
      "metadata": {
        "colab": {
          "base_uri": "https://localhost:8080/"
        },
        "id": "OnCk4Y3ROO0P",
        "outputId": "7fa8fb93-8f76-4061-b136-60ea380294d3"
      },
      "outputs": [
        {
          "output_type": "stream",
          "name": "stdout",
          "text": [
            "None\n"
          ]
        }
      ],
      "source": [
        "from openpyxl import Workbook\n",
        "from openpyxl.utils import get_column_letter\n",
        "\n",
        "wb = Workbook()\n",
        "\n",
        "destination_filename = 'new_workbook.xlsx'\n",
        "\n",
        "ws = wb.active\n",
        "ws.title = \"New Active Workbook\"\n",
        "\n",
        "for row in range(1, 10):\n",
        "    ws.append(range(100))\n",
        "\n",
        "wssheet =  wb.create_sheet(title=\"Number Two\")\n",
        "\n",
        "wssheet['A5'] = 'some value here'\n",
        "\n",
        "wssheet['A5'].value\n",
        "wssheet['A5']\n",
        "ws['C3'].value\n",
        "\n",
        "another_worksheet = wb.create_sheet(title=\"Third Sheet\")\n",
        "for row in range(1, 5):\n",
        "  for col in range(2, 10):\n",
        "     _ = another_worksheet.cell(column = col,\n",
        "                             row=row,\n",
        "                             value=\"{0}\".format(get_column_letter(col)))\n",
        "print(another_worksheet['J1'].value)"
      ]
    }
  ]
}