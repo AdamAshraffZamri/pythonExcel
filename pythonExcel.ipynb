{
  "nbformat": 4,
  "nbformat_minor": 0,
  "metadata": {
    "colab": {
      "provenance": [],
      "authorship_tag": "ABX9TyM5wh1t9wbcnNO9tVuTN7G7",
      "include_colab_link": true
    },
    "kernelspec": {
      "name": "python3",
      "display_name": "Python 3"
    },
    "language_info": {
      "name": "python"
    }
  },
  "cells": [
    {
      "cell_type": "markdown",
      "metadata": {
        "id": "view-in-github",
        "colab_type": "text"
      },
      "source": [
        "<a href=\"https://colab.research.google.com/github/AdamAshraffZamri/pythonExcel/blob/main/pythonExcel.ipynb\" target=\"_parent\"><img src=\"https://colab.research.google.com/assets/colab-badge.svg\" alt=\"Open In Colab\"/></a>"
      ]
    },
    {
      "cell_type": "code",
      "execution_count": 22,
      "metadata": {
        "colab": {
          "base_uri": "https://localhost:8080/"
        },
        "id": "XuVvSxMx8mAs",
        "outputId": "9af3c5a0-1a05-4dac-dbf2-6d9048dd3425"
      },
      "outputs": [
        {
          "output_type": "stream",
          "name": "stdout",
          "text": [
            "Drive already mounted at /content/gdrive; to attempt to forcibly remount, call drive.mount(\"/content/gdrive\", force_remount=True).\n"
          ]
        }
      ],
      "source": [
        "# BASIC STYLE AND FORMAT\n",
        "\n",
        "from openpyxl import load_workbook\n",
        "from google.colab import drive\n",
        "# import datetime\n",
        "# from openpyxl.utils import FORMULAE\n",
        "drive.mount('/content/gdrive')\n",
        "\n",
        "wb = load_workbook(filename = '/content/gdrive/My Drive/'\n",
        "                                +'new_workbook.xlsx')\n",
        "\n",
        "sheet = wb['New Active Workbook']\n",
        "\n",
        "# FOLDING\n",
        "sheet.row_dimensions.group(2, 4, hidden=True)\n",
        "sheet.column_dimensions.group('B', 'E', hidden=True)\n",
        "\n",
        "# MERGE AND UNMERGE\n",
        "# sheet.merge_cells(\"C2:E3\")\n",
        "# sheet.unmerge_cells(\"C2:E3\")\n",
        "# sheet.merge_cells(start_row=4,start_column = 2, end_row =6, end_column =5)\n",
        "\n",
        "# FORMULAE AND FORMAT\n",
        "# sheet[\"A1\"] = \"=SUM(2,3)\"\n",
        "# \"DEC2HEX\" in FORMULAE\n",
        "# sheet[\"B1\"].number_format\n",
        "# sheet[\"B1\"] = datetime.datetime(2025, 1, 1)\n",
        "\n",
        "wb.save('/content/gdrive/My Drive/' + 'new_workbook.xlsx')\n",
        "\n"
      ]
    },
    {
      "cell_type": "code",
      "source": [
        "# NEW SHEET\n",
        "\n",
        "from openpyxl import load_workbook\n",
        "from google.colab import drive\n",
        "drive.mount('/content/gdrive')\n",
        "\n",
        "wb = load_workbook(filename = '/content/gdrive/My Drive/' + 'new_workbook.xlsx')\n",
        "\n",
        "wb.create_sheet(\"My New Sheet\")\n",
        "wb.save('/content/gdrive/My Drive/' + 'new_workbook.xlsx')"
      ],
      "metadata": {
        "colab": {
          "base_uri": "https://localhost:8080/"
        },
        "id": "Ohcs-dr4MBaV",
        "outputId": "ea6a7644-333c-41e2-dacf-7aad8ff2eb9b"
      },
      "execution_count": 23,
      "outputs": [
        {
          "output_type": "stream",
          "name": "stdout",
          "text": [
            "Drive already mounted at /content/gdrive; to attempt to forcibly remount, call drive.mount(\"/content/gdrive\", force_remount=True).\n"
          ]
        }
      ]
    },
    {
      "cell_type": "code",
      "source": [
        "# COPY SHEET\n",
        "\n",
        "from openpyxl import load_workbook\n",
        "from google.colab import drive\n",
        "drive.mount('/content/gdrive')\n",
        "\n",
        "wb = load_workbook(filename = '/content/gdrive/My Drive/' + 'new_workbook.xlsx')\n",
        "\n",
        "original_sheet = wb.get_sheet_by_name(\"Third Sheet\")\n",
        "copy_sheet = wb.copy_worksheet(original_sheet)\n",
        "\n",
        "wb.save('/content/gdrive/My Drive/' + 'new_workbook.xlsx')"
      ],
      "metadata": {
        "colab": {
          "base_uri": "https://localhost:8080/"
        },
        "id": "SwS-TjF5M8vM",
        "outputId": "87b1101d-68f7-4020-d89f-7e204cb1a2a2"
      },
      "execution_count": 24,
      "outputs": [
        {
          "output_type": "stream",
          "name": "stdout",
          "text": [
            "Drive already mounted at /content/gdrive; to attempt to forcibly remount, call drive.mount(\"/content/gdrive\", force_remount=True).\n"
          ]
        },
        {
          "output_type": "stream",
          "name": "stderr",
          "text": [
            "/tmp/ipython-input-1960484446.py:7: DeprecationWarning: Call to deprecated function get_sheet_by_name (Use wb[sheetname]).\n",
            "  original_sheet = wb.get_sheet_by_name(\"Third Sheet\")\n"
          ]
        }
      ]
    },
    {
      "cell_type": "code",
      "source": [
        "# ADD NEW SHEET\n",
        "\n",
        "from openpyxl import load_workbook\n",
        "from google.colab import drive\n",
        "drive.mount('/content/gdrive')\n",
        "\n",
        "wb = load_workbook(filename = '/content/gdrive/My Drive/' + 'new_workbook.xlsx')\n",
        "\n",
        "sheet_to_remove = wb.get_sheet_by_name(\"My New Sheet\")\n",
        "wb.remove(sheet_to_remove)\n",
        "\n",
        "wb.save('/content/gdrive/My Drive/' + 'new_workbook.xlsx')"
      ],
      "metadata": {
        "colab": {
          "base_uri": "https://localhost:8080/"
        },
        "id": "Hb0GeV8oN5ed",
        "outputId": "b4cd344c-c41c-4bac-c43e-89e1acc78556"
      },
      "execution_count": 25,
      "outputs": [
        {
          "output_type": "stream",
          "name": "stdout",
          "text": [
            "Drive already mounted at /content/gdrive; to attempt to forcibly remount, call drive.mount(\"/content/gdrive\", force_remount=True).\n"
          ]
        },
        {
          "output_type": "stream",
          "name": "stderr",
          "text": [
            "/tmp/ipython-input-1212739492.py:7: DeprecationWarning: Call to deprecated function get_sheet_by_name (Use wb[sheetname]).\n",
            "  sheet_to_remove = wb.get_sheet_by_name(\"My New Sheet\")\n"
          ]
        }
      ]
    },
    {
      "cell_type": "code",
      "source": [
        "# TABLE STYLE\n",
        "\n",
        "from openpyxl import Workbook\n",
        "from openpyxl.worksheet.table import Table, TableStyleInfo\n",
        "from google.colab import drive\n",
        "drive.mount(\"/content/gdrive\")\n",
        "\n",
        "wb = Workbook()\n",
        "destination_filename = \"table_workbook.xlsx\"\n",
        "\n",
        "sheet = wb.active\n",
        "sheet.title = \"table WorkSHEET\"\n",
        "\n",
        "data = [\n",
        "        [\"Leopard\", 9000, 400, 4],\n",
        "        [\"Tabby Cat\", 90, 20, 4],\n",
        "        [\"Zombie\", 890, 990, 6],\n",
        "        [\"Eagle\", 809, 809, 90],]\n",
        "\n",
        "sheet.append([\"ANIMAL\",\n",
        "              \"ATE\",\n",
        "              \"WEIGHT\",\n",
        "              \"PAWS\"])\n",
        "\n",
        "for row in data:\n",
        "  sheet.append(row)\n",
        "\n",
        "tableObject = Table(displayName=\"Animal_Table\",\n",
        "                    ref=\"A1:D5\")\n",
        "\n",
        "table_style = TableStyleInfo(name=\"TableStyleMedium10\",\n",
        "                             showRowStripes=True,\n",
        "                             showColumnStripes=False,\n",
        "                             showFirstColumn=False)\n",
        "\n",
        "tableObject.tableStyleInfo = table_style\n",
        "\n",
        "sheet.add_table(tableObject)\n",
        "wb.save(\"/content/gdrive/My Drive/\" + destination_filename)"
      ],
      "metadata": {
        "colab": {
          "base_uri": "https://localhost:8080/"
        },
        "id": "hMWlP2COPMaa",
        "outputId": "39b0cd2e-0117-4c91-ced4-f94b31629c5a"
      },
      "execution_count": 3,
      "outputs": [
        {
          "output_type": "stream",
          "name": "stdout",
          "text": [
            "Drive already mounted at /content/gdrive; to attempt to forcibly remount, call drive.mount(\"/content/gdrive\", force_remount=True).\n"
          ]
        }
      ]
    },
    {
      "cell_type": "code",
      "source": [
        "import pandas as pd\n",
        "from google.colab import drive\n",
        "drive.mount(\"/content/gdrive\")\n",
        "\n",
        "dataset = pd.read_csv(\"/content/gdrive/My Drive/\"+\"animals.csv\")\n"
      ],
      "metadata": {
        "colab": {
          "base_uri": "https://localhost:8080/",
          "height": 339
        },
        "id": "UtZue7V-QrrJ",
        "outputId": "01fec7cf-b7a4-43e2-e003-99eb2534e38f"
      },
      "execution_count": 7,
      "outputs": [
        {
          "output_type": "stream",
          "name": "stdout",
          "text": [
            "Drive already mounted at /content/gdrive; to attempt to forcibly remount, call drive.mount(\"/content/gdrive\", force_remount=True).\n"
          ]
        },
        {
          "output_type": "error",
          "ename": "FileNotFoundError",
          "evalue": "[Errno 2] No such file or directory: '/content/gdrive/My Drive/animals.csv'",
          "traceback": [
            "\u001b[0;31m---------------------------------------------------------------------------\u001b[0m",
            "\u001b[0;31mFileNotFoundError\u001b[0m                         Traceback (most recent call last)",
            "\u001b[0;32m/tmp/ipython-input-1876004283.py\u001b[0m in \u001b[0;36m<cell line: 0>\u001b[0;34m()\u001b[0m\n\u001b[1;32m      3\u001b[0m \u001b[0mdrive\u001b[0m\u001b[0;34m.\u001b[0m\u001b[0mmount\u001b[0m\u001b[0;34m(\u001b[0m\u001b[0;34m\"/content/gdrive\"\u001b[0m\u001b[0;34m)\u001b[0m\u001b[0;34m\u001b[0m\u001b[0;34m\u001b[0m\u001b[0m\n\u001b[1;32m      4\u001b[0m \u001b[0;34m\u001b[0m\u001b[0m\n\u001b[0;32m----> 5\u001b[0;31m \u001b[0mdataset\u001b[0m \u001b[0;34m=\u001b[0m \u001b[0mpd\u001b[0m\u001b[0;34m.\u001b[0m\u001b[0mread_csv\u001b[0m\u001b[0;34m(\u001b[0m\u001b[0;34m\"/content/gdrive/My Drive/\"\u001b[0m\u001b[0;34m+\u001b[0m\u001b[0;34m\"animals.csv\"\u001b[0m\u001b[0;34m)\u001b[0m\u001b[0;34m\u001b[0m\u001b[0;34m\u001b[0m\u001b[0m\n\u001b[0m",
            "\u001b[0;32m/usr/local/lib/python3.12/dist-packages/pandas/io/parsers/readers.py\u001b[0m in \u001b[0;36mread_csv\u001b[0;34m(filepath_or_buffer, sep, delimiter, header, names, index_col, usecols, dtype, engine, converters, true_values, false_values, skipinitialspace, skiprows, skipfooter, nrows, na_values, keep_default_na, na_filter, verbose, skip_blank_lines, parse_dates, infer_datetime_format, keep_date_col, date_parser, date_format, dayfirst, cache_dates, iterator, chunksize, compression, thousands, decimal, lineterminator, quotechar, quoting, doublequote, escapechar, comment, encoding, encoding_errors, dialect, on_bad_lines, delim_whitespace, low_memory, memory_map, float_precision, storage_options, dtype_backend)\u001b[0m\n\u001b[1;32m   1024\u001b[0m     \u001b[0mkwds\u001b[0m\u001b[0;34m.\u001b[0m\u001b[0mupdate\u001b[0m\u001b[0;34m(\u001b[0m\u001b[0mkwds_defaults\u001b[0m\u001b[0;34m)\u001b[0m\u001b[0;34m\u001b[0m\u001b[0;34m\u001b[0m\u001b[0m\n\u001b[1;32m   1025\u001b[0m \u001b[0;34m\u001b[0m\u001b[0m\n\u001b[0;32m-> 1026\u001b[0;31m     \u001b[0;32mreturn\u001b[0m \u001b[0m_read\u001b[0m\u001b[0;34m(\u001b[0m\u001b[0mfilepath_or_buffer\u001b[0m\u001b[0;34m,\u001b[0m \u001b[0mkwds\u001b[0m\u001b[0;34m)\u001b[0m\u001b[0;34m\u001b[0m\u001b[0;34m\u001b[0m\u001b[0m\n\u001b[0m\u001b[1;32m   1027\u001b[0m \u001b[0;34m\u001b[0m\u001b[0m\n\u001b[1;32m   1028\u001b[0m \u001b[0;34m\u001b[0m\u001b[0m\n",
            "\u001b[0;32m/usr/local/lib/python3.12/dist-packages/pandas/io/parsers/readers.py\u001b[0m in \u001b[0;36m_read\u001b[0;34m(filepath_or_buffer, kwds)\u001b[0m\n\u001b[1;32m    618\u001b[0m \u001b[0;34m\u001b[0m\u001b[0m\n\u001b[1;32m    619\u001b[0m     \u001b[0;31m# Create the parser.\u001b[0m\u001b[0;34m\u001b[0m\u001b[0;34m\u001b[0m\u001b[0m\n\u001b[0;32m--> 620\u001b[0;31m     \u001b[0mparser\u001b[0m \u001b[0;34m=\u001b[0m \u001b[0mTextFileReader\u001b[0m\u001b[0;34m(\u001b[0m\u001b[0mfilepath_or_buffer\u001b[0m\u001b[0;34m,\u001b[0m \u001b[0;34m**\u001b[0m\u001b[0mkwds\u001b[0m\u001b[0;34m)\u001b[0m\u001b[0;34m\u001b[0m\u001b[0;34m\u001b[0m\u001b[0m\n\u001b[0m\u001b[1;32m    621\u001b[0m \u001b[0;34m\u001b[0m\u001b[0m\n\u001b[1;32m    622\u001b[0m     \u001b[0;32mif\u001b[0m \u001b[0mchunksize\u001b[0m \u001b[0;32mor\u001b[0m \u001b[0miterator\u001b[0m\u001b[0;34m:\u001b[0m\u001b[0;34m\u001b[0m\u001b[0;34m\u001b[0m\u001b[0m\n",
            "\u001b[0;32m/usr/local/lib/python3.12/dist-packages/pandas/io/parsers/readers.py\u001b[0m in \u001b[0;36m__init__\u001b[0;34m(self, f, engine, **kwds)\u001b[0m\n\u001b[1;32m   1618\u001b[0m \u001b[0;34m\u001b[0m\u001b[0m\n\u001b[1;32m   1619\u001b[0m         \u001b[0mself\u001b[0m\u001b[0;34m.\u001b[0m\u001b[0mhandles\u001b[0m\u001b[0;34m:\u001b[0m \u001b[0mIOHandles\u001b[0m \u001b[0;34m|\u001b[0m \u001b[0;32mNone\u001b[0m \u001b[0;34m=\u001b[0m \u001b[0;32mNone\u001b[0m\u001b[0;34m\u001b[0m\u001b[0;34m\u001b[0m\u001b[0m\n\u001b[0;32m-> 1620\u001b[0;31m         \u001b[0mself\u001b[0m\u001b[0;34m.\u001b[0m\u001b[0m_engine\u001b[0m \u001b[0;34m=\u001b[0m \u001b[0mself\u001b[0m\u001b[0;34m.\u001b[0m\u001b[0m_make_engine\u001b[0m\u001b[0;34m(\u001b[0m\u001b[0mf\u001b[0m\u001b[0;34m,\u001b[0m \u001b[0mself\u001b[0m\u001b[0;34m.\u001b[0m\u001b[0mengine\u001b[0m\u001b[0;34m)\u001b[0m\u001b[0;34m\u001b[0m\u001b[0;34m\u001b[0m\u001b[0m\n\u001b[0m\u001b[1;32m   1621\u001b[0m \u001b[0;34m\u001b[0m\u001b[0m\n\u001b[1;32m   1622\u001b[0m     \u001b[0;32mdef\u001b[0m \u001b[0mclose\u001b[0m\u001b[0;34m(\u001b[0m\u001b[0mself\u001b[0m\u001b[0;34m)\u001b[0m \u001b[0;34m->\u001b[0m \u001b[0;32mNone\u001b[0m\u001b[0;34m:\u001b[0m\u001b[0;34m\u001b[0m\u001b[0;34m\u001b[0m\u001b[0m\n",
            "\u001b[0;32m/usr/local/lib/python3.12/dist-packages/pandas/io/parsers/readers.py\u001b[0m in \u001b[0;36m_make_engine\u001b[0;34m(self, f, engine)\u001b[0m\n\u001b[1;32m   1878\u001b[0m                 \u001b[0;32mif\u001b[0m \u001b[0;34m\"b\"\u001b[0m \u001b[0;32mnot\u001b[0m \u001b[0;32min\u001b[0m \u001b[0mmode\u001b[0m\u001b[0;34m:\u001b[0m\u001b[0;34m\u001b[0m\u001b[0;34m\u001b[0m\u001b[0m\n\u001b[1;32m   1879\u001b[0m                     \u001b[0mmode\u001b[0m \u001b[0;34m+=\u001b[0m \u001b[0;34m\"b\"\u001b[0m\u001b[0;34m\u001b[0m\u001b[0;34m\u001b[0m\u001b[0m\n\u001b[0;32m-> 1880\u001b[0;31m             self.handles = get_handle(\n\u001b[0m\u001b[1;32m   1881\u001b[0m                 \u001b[0mf\u001b[0m\u001b[0;34m,\u001b[0m\u001b[0;34m\u001b[0m\u001b[0;34m\u001b[0m\u001b[0m\n\u001b[1;32m   1882\u001b[0m                 \u001b[0mmode\u001b[0m\u001b[0;34m,\u001b[0m\u001b[0;34m\u001b[0m\u001b[0;34m\u001b[0m\u001b[0m\n",
            "\u001b[0;32m/usr/local/lib/python3.12/dist-packages/pandas/io/common.py\u001b[0m in \u001b[0;36mget_handle\u001b[0;34m(path_or_buf, mode, encoding, compression, memory_map, is_text, errors, storage_options)\u001b[0m\n\u001b[1;32m    871\u001b[0m         \u001b[0;32mif\u001b[0m \u001b[0mioargs\u001b[0m\u001b[0;34m.\u001b[0m\u001b[0mencoding\u001b[0m \u001b[0;32mand\u001b[0m \u001b[0;34m\"b\"\u001b[0m \u001b[0;32mnot\u001b[0m \u001b[0;32min\u001b[0m \u001b[0mioargs\u001b[0m\u001b[0;34m.\u001b[0m\u001b[0mmode\u001b[0m\u001b[0;34m:\u001b[0m\u001b[0;34m\u001b[0m\u001b[0;34m\u001b[0m\u001b[0m\n\u001b[1;32m    872\u001b[0m             \u001b[0;31m# Encoding\u001b[0m\u001b[0;34m\u001b[0m\u001b[0;34m\u001b[0m\u001b[0m\n\u001b[0;32m--> 873\u001b[0;31m             handle = open(\n\u001b[0m\u001b[1;32m    874\u001b[0m                 \u001b[0mhandle\u001b[0m\u001b[0;34m,\u001b[0m\u001b[0;34m\u001b[0m\u001b[0;34m\u001b[0m\u001b[0m\n\u001b[1;32m    875\u001b[0m                 \u001b[0mioargs\u001b[0m\u001b[0;34m.\u001b[0m\u001b[0mmode\u001b[0m\u001b[0;34m,\u001b[0m\u001b[0;34m\u001b[0m\u001b[0;34m\u001b[0m\u001b[0m\n",
            "\u001b[0;31mFileNotFoundError\u001b[0m: [Errno 2] No such file or directory: '/content/gdrive/My Drive/animals.csv'"
          ]
        }
      ]
    },
    {
      "cell_type": "code",
      "source": [
        "# SHEET STYLE\n",
        "\n",
        "from openpyxl import Workbook\n",
        "from openpyxl.styles import Font\n",
        "from copy import copy\n",
        "from google.colab import drive\n",
        "drive.mount(\"/content/gdrive\")\n",
        "\n",
        "# from openpyxl.styles import NamedStyle, Font, Border, Side\n",
        "\n",
        "wb = Workbook()\n",
        "destination_filename = \"format_cells.xlsx\"\n",
        "\n",
        "sheet = wb.active\n",
        "\n",
        "sheet.title = \"Format Cells\"\n",
        "\n",
        "# a1Cell = sheet[\"A1\"]\n",
        "# fontStyle = Font(italic=True)\n",
        "# a1Cell.font = fontStyle\n",
        "\n",
        "# a1Cell.font = Font(color=\"AAA000\", italic=True)\n",
        "\n",
        "# newNamedStyle = NamedStyle(name=\"newNamedStyle\")\n",
        "# newNamedStyle.font = Font(bold=True, size = 40)\n",
        "# newBorder = Side(style=\"thin\", color=\"BBB111\")\n",
        "# newNamedStyle.border = Border(top = newBorder,\n",
        "#                               bottom = newBorder,\n",
        "#                               left = newBorder,\n",
        "#                               right =newBorder)\n",
        "# sheet[\"B1\"].style = newNamedStyle\n",
        "# sheet[\"C1\"].style = \"newNamedStyle\"\n",
        "\n",
        "# wb.add_named_style(newNamedStyle)\n",
        "\n",
        "originalFont = Font(name=\"Helvetica\", size=30)\n",
        "copyFont = copy(originalFont)\n",
        "copyFont.size = 20\n",
        "\n",
        "a1Cell = sheet[\"A1\"]\n",
        "a2Cell = sheet[\"A2\"]\n",
        "a1Cell.font = originalFont\n",
        "a2Cell.font = copyFont\n",
        "\n",
        "wb.save(\"/content/gdrive/My Drive/\" + destination_filename)"
      ],
      "metadata": {
        "colab": {
          "base_uri": "https://localhost:8080/"
        },
        "id": "8omDtF1bS08z",
        "outputId": "16cf750a-d8a4-43b9-e096-7d7a41c933aa"
      },
      "execution_count": 15,
      "outputs": [
        {
          "output_type": "stream",
          "name": "stdout",
          "text": [
            "Drive already mounted at /content/gdrive; to attempt to forcibly remount, call drive.mount(\"/content/gdrive\", force_remount=True).\n"
          ]
        }
      ]
    },
    {
      "cell_type": "code",
      "source": [
        "# BAR CHART\n",
        "\n",
        "from openpyxl import Workbook\n",
        "from google.colab import drive\n",
        "drive.mount(\"/content/gdrive\")\n",
        "from openpyxl.chart import Reference, BarChart\n",
        "\n",
        "wb = Workbook()\n",
        "destination_filename = \"chart_workbook.xlsx\"\n",
        "\n",
        "sheet = wb.active\n",
        "sheet.title = \"Chart Worksheet\"\n",
        "\n",
        "# row 1-20\n",
        "for index in range(20):\n",
        "  sheet.append([index])\n",
        "\n",
        "chart_values = Reference(sheet,\n",
        "                         min_col=1,\n",
        "                         min_row=1,\n",
        "                         max_col=1,\n",
        "                         max_row=20)\n",
        "\n",
        "chartObject = BarChart()\n",
        "\n",
        "chartObject.add_data(chart_values)\n",
        "\n",
        "sheet.add_chart(chartObject, \"D1\")\n",
        "\n",
        "wb.save(\"/content/gdrive/My Drive/\" + destination_filename)"
      ],
      "metadata": {
        "colab": {
          "base_uri": "https://localhost:8080/"
        },
        "id": "nFm7bnSYY2J7",
        "outputId": "2abba607-471d-48fa-bd15-1939b860912c"
      },
      "execution_count": 17,
      "outputs": [
        {
          "output_type": "stream",
          "name": "stdout",
          "text": [
            "Drive already mounted at /content/gdrive; to attempt to forcibly remount, call drive.mount(\"/content/gdrive\", force_remount=True).\n"
          ]
        }
      ]
    },
    {
      "cell_type": "code",
      "source": [
        "# LINE CHART\n",
        "\n",
        "from openpyxl import Workbook\n",
        "from google.colab import drive\n",
        "drive.mount(\"/content/gdrive\")\n",
        "from openpyxl.chart import Reference, LineChart\n",
        "\n",
        "wb = Workbook()\n",
        "destination_filename = \"line_workbook.xlsx\"\n",
        "\n",
        "sheet = wb.active\n",
        "sheet.title = \"Line Charts\"\n",
        "\n",
        "rows = [\n",
        "        [\"Number\", \"Batch 1\", \"Batch 2\", \"Batch 3\"],\n",
        "        [1, 40, 30, 25],\n",
        "        [2, 40, 25, 30]\n",
        "]\n",
        "\n",
        "for row in rows:\n",
        "  sheet.append(row)\n",
        "\n",
        "chartObject = LineChart()\n",
        "\n",
        "chart_values = Reference(sheet,\n",
        "                         min_row = 1,\n",
        "                         min_col = 1,\n",
        "                         max_row = 3,\n",
        "                         max_col=4)\n",
        "\n",
        "chartObject.add_data(chart_values)\n",
        "\n",
        "sheet.add_chart(chartObject, \"E1\")\n",
        "\n",
        "chartObject.title = \"Batch Perfomance\"\n",
        "chartObject.x_axis.title = \"Test Number\"\n",
        "chartObject.y_axis.title = \"Test Result\"\n",
        "\n",
        "chart_style = chartObject.series[0]\n",
        "chart_style.graphicalProperties.line.solidFill = \"HHHHHHH\"\n",
        "chart_style.graphicalProperties.line.width = 50000\n",
        "chart_style.graphicalProperties.line.dashStyle = \"sysDot\"\n",
        "\n",
        "wb.save(\"/content/gdrive/My Drive/\" + destination_filename)"
      ],
      "metadata": {
        "colab": {
          "base_uri": "https://localhost:8080/"
        },
        "id": "R5T_mcJQbiab",
        "outputId": "005c66c5-0348-4aba-dcf1-93b69a48553f"
      },
      "execution_count": 21,
      "outputs": [
        {
          "output_type": "stream",
          "name": "stdout",
          "text": [
            "Drive already mounted at /content/gdrive; to attempt to forcibly remount, call drive.mount(\"/content/gdrive\", force_remount=True).\n"
          ]
        }
      ]
    }
  ]
}